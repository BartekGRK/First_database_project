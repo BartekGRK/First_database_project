{
    "metadata": {
        "kernelspec": {
            "name": "SQL",
            "display_name": "SQL",
            "language": "sql"
        },
        "language_info": {
            "name": "sql",
            "version": ""
        }
    },
    "nbformat_minor": 2,
    "nbformat": 4,
    "cells": [
        {
            "cell_type": "markdown",
            "source": [
                "**Definiowanie bazy**"
            ],
            "metadata": {
                "azdata_cell_guid": "39fb5095-c9cb-4ab5-ba12-ec5a6bdfc1fa"
            },
            "attachments": {}
        },
        {
            "cell_type": "code",
            "source": [
                "CREATE DATABASE Wypozyczalnia \r\n",
                "USE Wypozyczalnia\r\n",
                "\r\n",
                "CREATE TABLE Dane_adresowe   \r\n",
                "(  \r\n",
                "\tid_adres int primary key,\r\n",
                "\tmiasto varchar(20),\r\n",
                "\tulica varchar(40),\r\n",
                "\tnumer_budynku varchar(10),\r\n",
                "\tnumer_lokalu varchar(10)\r\n",
                ");\r\n",
                "\r\n",
                "INSERT INTO Dane_adresowe(\r\n",
                "\tid_adres,\r\n",
                "\tmiasto,\r\n",
                "\tulica ,\r\n",
                "\tnumer_budynku,\r\n",
                "\tnumer_lokalu\r\n",
                "\t)\r\n",
                "VALUES\r\n",
                "\t('1','Warszawa','Niepodleglosci','132','55'),\r\n",
                "\t('2','Janki','Jasna','2','3'),\r\n",
                "\t('3','Warszawa','Wybickiego','333','222'),\r\n",
                "\t('4','Legionowo','Sienkiewicza','34','67'),\r\n",
                "\t('5','Marki','Wajdy','3','546'),\r\n",
                "\t('6','Warszawa','Prosta','2','55'),\r\n",
                "\t('7','Warszawa','Krzywa','12','1'),\r\n",
                "\t('8','Warszawa','Zielona','555','32');\r\n",
                ";\r\n",
                "CREATE TABLE Klient \r\n",
                "(  \r\n",
                "\tid_klienta int primary key,\r\n",
                "    imie varchar(50) NOT NULL  ,\r\n",
                "\tnazwisko varchar(50) NOT NULL ,\r\n",
                "\tdata_urodzenia date  NOT NULL ,\r\n",
                "\ttelefon float  NOT NULL ,\r\n",
                "\tadres int FOREIGN KEY REFERENCES Dane_adresowe(id_adres)  NOT NULL ,\r\n",
                "\tzamowienia int NULL,\r\n",
                "\tnumer_dowodu varchar(9) NOT NULL\r\n",
                "\t\r\n",
                ");\r\n",
                "\r\n",
                "INSERT INTO Klient(id_klienta, imie, nazwisko,data_urodzenia ,telefon ,adres,zamowienia,numer_dowodu)\r\n",
                "VALUES\r\n",
                "\t('1','Marek','Ostrowski','1989-01-02','444555666','5','2','KUZ698226'),\r\n",
                "\t('2','Milena','Sawicka','1992-05-01','666444222','4','4','YKU517586'),\r\n",
                "\t('3','Jakub','Baranowski','1983-10-15','777888999','3',NULL,'SWW980885')\t;\r\n",
                "\r\n",
                "CREATE TABLE Zatrudnienie\r\n",
                "(\tid_zatrudnienia int primary key NOT NULL,\r\n",
                "\tdata_rozpoczecia date NOT NULL,\r\n",
                "\tdata_zakonczenia date NULL ,\r\n",
                "\tpensja float NOT NULL,\r\n",
                "\tzaczyna TIME(0) NOT NULL,\r\n",
                "    konczy TIME(0)  NOT NULL, \r\n",
                "\tplacowka int FOREIGN KEY REFERENCES Dane_adresowe(id_adres)  NOT NULL ,\r\n",
                "\tpracujace_weekendy TINYINT NULL,\r\n",
                "\tstanowisko varchar(20) NOT NULL,\r\n",
                ");\r\n",
                "\r\n",
                "INSERT INTO Zatrudnienie(id_zatrudnienia,data_rozpoczecia, data_zakonczenia,pensja ,zaczyna ,konczy,placowka, pracujace_weekendy,stanowisko)\r\n",
                "VALUES\r\n",
                "\t('1','2010-01-02','2020-01-02','3333','8:00','16:00','1','2','Sprzedawca'),\r\n",
                "\t('2','2010-01-02',NULL,'3750','7:00','15:00','1','2','Sprzedawca'),\r\n",
                "\t('3','2011-02-04',NULL,'4500','8:00','16:00','2','0','Sprzedawca');\r\n",
                "\r\n",
                "CREATE TABLE Pracownik  \r\n",
                "(  \r\n",
                "\tid_pracownika int primary key,\r\n",
                "    imie varchar(50) NOT NULL  ,\r\n",
                "\tnazwisko varchar(50) NOT NULL ,\r\n",
                "\tdata_urodzenia date,\r\n",
                "\tzatrudnienie int FOREIGN KEY REFERENCES Zatrudnienie(id_zatrudnienia) ,\r\n",
                "\tadres int FOREIGN KEY REFERENCES Dane_adresowe(id_adres) \r\n",
                ");\r\n",
                "\r\n",
                "\r\n",
                "INSERT INTO Pracownik(id_pracownika, imie, nazwisko,data_urodzenia ,zatrudnienie ,adres)\r\n",
                "VALUES\r\n",
                "\t('1','Kajetan','Chmielewski','1990-01-02','2','6'),\r\n",
                "\t('2','Denis','Sawicki','1969-03-01','1','8'),\r\n",
                "\t('3','Radoslaw','Makowski','1987-11-14','3','7')\t;\r\n",
                "\r\n",
                "\r\n",
                "CREATE TABLE Samochod\r\n",
                "(  \r\n",
                "\tid_samochodu int primary key NOT NULL,\r\n",
                "\tmarka varchar(20) NOT NULL,\r\n",
                "\tmodel VARCHAR(20) NULL ,\r\n",
                "\tstatus_car BIT NOT NULL,\r\n",
                "\tnumer_rejestracyjny varchar(8) NULL,\r\n",
                "    koszt_za_dzien smallint NOT NULL, \r\n",
                "\tplacowka int FOREIGN KEY REFERENCES Dane_adresowe(id_adres) NOT NULL,\r\n",
                "\tliczba_zamowien int NULL,\r\n",
                "\tmiejsca tinyint NOT NULL,\r\n",
                ");\r\n",
                "\r\n",
                "INSERT INTO Samochod(id_samochodu, marka, model, status_car, numer_rejestracyjny,koszt_za_dzien,placowka,liczba_zamowien,miejsca)\r\n",
                "VALUES\r\n",
                "\t('1','Volkswagen','Golf','1','WE74281','200','1','5','5'),\r\n",
                "\t('2','Opel','Insignia','1','WE74213','250','2',NULL,'5'),\r\n",
                "\t('3','Toyota','Avensis','0','WE23281','400','1','2','5'),\r\n",
                "\t('4','Skoda','Octavia','1','WE74281','350','1','10','5');\r\n",
                "\r\n",
                "CREATE TABLE Platnosc\r\n",
                "(  \r\n",
                "\tid_platnosci int primary key NOT NULL,\r\n",
                "\tstatus_platnosci bit NOT NULL,\r\n",
                "\tkwota int NOT NULL,\r\n",
                "\tdata_platnosci date NULL,\r\n",
                ");\r\n",
                "\r\n",
                "INSERT INTO Platnosc(id_platnosci, status_platnosci,kwota,data_platnosci)\r\n",
                "VALUES\r\n",
                "\t('1','1','1000','2022-01-02'),\r\n",
                "\t('2','1','2400','2022-04-02'),\r\n",
                "\t('3','0','1700',NULL);\r\n",
                "\r\n",
                "CREATE TABLE Zamowienie\r\n",
                "(  \r\n",
                "\tid_zamowienia int primary key NOT NULL,\r\n",
                "\tid_klienta int FOREIGN KEY REFERENCES Klient(id_klienta)  NOT NULL,\r\n",
                "\tid_samochodu int FOREIGN KEY REFERENCES Samochod(id_samochodu)  NOT NULL,\r\n",
                "\tdata_zakonczenia date NOT NULL ,\r\n",
                "\tdata_rozpoczecia date NOT NULL ,\r\n",
                "\tid_pracownika int NOT NULL,\r\n",
                "\tmiejsce_odbioru int FOREIGN KEY REFERENCES Dane_adresowe(id_adres)  NOT NULL,\r\n",
                "\tmiejsce_oddania int FOREIGN KEY REFERENCES Dane_adresowe(id_adres)  NOT NULL,\r\n",
                "    id_platnosci int FOREIGN KEY REFERENCES Platnosc(id_platnosci) NOT NULL,\r\n",
                ");\r\n",
                "\r\n",
                "INSERT INTO Zamowienie(id_zamowienia, id_klienta, id_samochodu,data_zakonczenia,data_rozpoczecia,id_pracownika,miejsce_odbioru,miejsce_oddania,id_platnosci)\r\n",
                "VALUES\r\n",
                "\t('1','1','3','2022-04-08','2022-04-02','3','1','1','2'),\r\n",
                "\t('2','2','1','2022-05-08','2022-05-02','1','2','1','1'),\r\n",
                "\t('3','1','3','2022-07-08','2022-07-02','1','1','2','3');\r\n",
                "\r\n",
                "\r\n",
                ""
            ],
            "metadata": {
                "azdata_cell_guid": "3fc573ef-38c4-42ba-a783-cc9d09e9ed87",
                "language": "sql",
                "tags": []
            },
            "outputs": [],
            "execution_count": null
        },
        {
            "cell_type": "markdown",
            "source": [
                "**Wyświetl dostępne samochody w kolejności od najtańszego**"
            ],
            "metadata": {
                "azdata_cell_guid": "63ff004f-66ca-4387-bea3-3d5ce836c3c1"
            },
            "attachments": {}
        },
        {
            "cell_type": "code",
            "source": [
                "USE Wypozyczalnia\r\n",
                "SELECT *\r\n",
                "FROM Samochod \r\n",
                "WHERE status_car <> 0 \r\n",
                "ORDER BY koszt_za_dzien"
            ],
            "metadata": {
                "azdata_cell_guid": "c193161c-be5c-402b-ae1b-83cee40c81af",
                "language": "sql"
            },
            "outputs": [],
            "execution_count": null
        },
        {
            "cell_type": "markdown",
            "source": [
                "**Wyszukanie Imienia i nazwiska osoby z zamówienia numer 2**"
            ],
            "metadata": {
                "azdata_cell_guid": "9023bb4c-b4e6-47dc-af75-1aaaf595dfb1"
            },
            "attachments": {}
        },
        {
            "cell_type": "code",
            "source": [
                "SELECT K.imie, K.nazwisko\r\n",
                "FROM Klient K\r\n",
                "INNER JOIN Zamowienie Z ON Z.id_klienta = K.id_klienta\r\n",
                "WHERE id_zamowienia = '2'"
            ],
            "metadata": {
                "azdata_cell_guid": "3cd9bf07-8ec6-4472-91ff-35432969e9bb",
                "language": "sql"
            },
            "outputs": [],
            "execution_count": null
        },
        {
            "cell_type": "markdown",
            "source": [
                "**Wyszukanie imienia, nazwiska i daty rozwiązania umowy pracowników , którzy zakończyli pracę**"
            ],
            "metadata": {
                "azdata_cell_guid": "eff9e309-d23f-4281-9a8b-9b17a2bc5f75"
            },
            "attachments": {}
        },
        {
            "cell_type": "code",
            "source": [
                "SELECT P.imie, P.nazwisko, Z.data_zakonczenia\r\n",
                "FROM Pracownik P\r\n",
                "INNER JOIN Zatrudnienie Z ON Z.id_zatrudnienia = P.zatrudnienie\r\n",
                "WHERE data_zakonczenia IS NOT NULL"
            ],
            "metadata": {
                "azdata_cell_guid": "788c28ae-a48a-4aac-92df-939618ac38fc",
                "language": "sql"
            },
            "outputs": [],
            "execution_count": null
        },
        {
            "cell_type": "markdown",
            "source": [
                "**Wyświetl adresy placówek, w których można wypożyczyć samochód**"
            ],
            "metadata": {
                "azdata_cell_guid": "a54d13f5-4c52-4d5a-9a98-dfd519d18e98"
            },
            "attachments": {}
        },
        {
            "cell_type": "code",
            "source": [
                "\r\n",
                "SELECT DISTINCT A.miasto, A.ulica, A.numer_budynku, A.numer_lokalu\r\n",
                "FROM Dane_adresowe A\r\n",
                "INNER JOIN Samochod S ON S.placowka = A.id_adres"
            ],
            "metadata": {
                "azdata_cell_guid": "fce18447-4664-4d88-a830-dfb7371bf7c4",
                "language": "sql"
            },
            "outputs": [],
            "execution_count": null
        }
    ]
}